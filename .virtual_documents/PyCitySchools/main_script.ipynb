


# Dependencies and Setup
from pathlib import Path
import pandas as pd

# File to Load
school_data_to_load = Path("../Resources/schools_complete.csv")
student_data_to_load = Path("../Resources/students_complete.csv")

# Read School and Student Data File and store into Pandas DataFrames
school_data = pd.read_csv(school_data_to_load)
student_data = pd.read_csv(student_data_to_load)

# Combine the data into a single dataset.
school_data_complete = pd.merge(student_data, school_data, how="left", on=["school_name", "school_name"])


# Have a look at the merged data using various pandas functions
school_data_complete.head(100)



school_data_complete.describe


school_data_complete.shape





# Calculate the Totals (Schools and Students)
school_count = len(school_data_complete["school_name"].unique())
student_count = len(school_data_complete["Student ID"].unique())

# Calculate the Total Budget
total_budget = school_data["budget"].sum()



print(f"Number of schools: {school_count}")
print(f"Number of students: {student_count}")
print(f"Total budget: {total_budget}")


# Calculate the Average Scores
average_maths_score = school_data_complete["maths_score"].mean()
average_reading_score = school_data_complete["reading_score"].mean()


print(f"Average math score: {average_maths_score}")
print(f"Average reading score: {average_reading_score}")


type(school_data_complete["reading_score"])


# Calculate the Percentage Pass Rates
passing_maths_count = school_data_complete[(school_data_complete["maths_score"] >= 50)].count()["student_name"]
passing_maths_percentage = passing_maths_count / float(student_count) * 100

passing_reading_count = school_data_complete[(school_data_complete["reading_score"] >= 50)].count()["student_name"]
passing_reading_percentage = passing_reading_count /float(student_count) * 100

passing_maths_reading_count = school_data_complete[(school_data_complete["maths_score"] >= 50) & (school_data_complete["reading_score"] >= 50)].count()["student_name"]
overall_passing_rate = passing_maths_reading_count/float(student_count)* 100


print(passing_maths_percentage)
print(passing_reading_percentage)
print(overall_passing_rate)


print(passing_reading_count)
print(passing_maths_reading_count)


# Convert to DataFrame
area_summary = pd.DataFrame({"Total Schools": [school_count],
                             "Total Students": [student_count],
                            "Total Budget": [total_budget],
                            "Average Maths Score": [average_maths_score],
                           "Average Reading Score": [average_reading_score],
                             "% Passing Maths": [passing_maths_percentage],
                             "% Passing Reading": [passing_reading_percentage],
                            "% Overall Passing": [overall_passing_rate]})
                             
                             
# Formatting
area_summary["Total Students"] = area_summary["Total Students"].map("{:,}".format)
area_summary["Total Budget"] = area_summary["Total Budget"].map("${:,.2f}".format)

# Display the DataFrame
area_summary





# Use the code provided to select the type per school from school_data
#school_type_new = school_as_index["type"]
#school_size_new = school_as_index["size"]
#school_budget_new = school_as_index["budget"]

school_types = school_data.set_index(["school_name"])["type"]

# Calculate the total student count per school from school_data
per_school_counts = school_data.set_index(["school_name"])["size"]

# Calculate the total school budget and per capita spending per school from school_data
per_school_budget = school_data.set_index(["school_name"])["budget"]
per_school_capita = per_school_budget/per_school_counts

# Calculate the average test scores per school from school_data_complete
per_school_maths_grouped =  school_data_complete.groupby(["school_name"])
per_school_maths =  per_school_maths_grouped["maths_score"].mean()

per_school_reading_grouped = school_data_complete.groupby(["school_name"])
per_school_reading = per_school_reading_grouped["reading_score"].mean()



print(school_types)
print(per_school_counts)
print(per_school_maths)
print(len(school_types))


#Get the students who passed maths and passed reading by creating separate filtered DataFrames from school_data_complete.
#MATHS
#First filter maths scores greater than euqal to 50 from the complete dataset:
math_pass_schools = school_data_complete[(school_data_complete["maths_score"] >= 50)]
#use a groupby function on this new filtered dataset:
passing_students_maths = math_pass_schools.groupby(["school_name"]).count()["student_name"]

print(passing_students_maths.head())

#create it into a df:
#passing_students_maths_df = pd.DataFrame({"Passing students maths":[passing_students_maths]})
#print(passing_students_maths_df.head(15))

#passing_students_maths_df


#READING
#First filter reading scores greater than equal to 50 from the complete dataset:
reading_pass_schools = school_data_complete[(school_data_complete["reading_score"] >= 50)]

#use a groupby function on this new filtered dataset:
passing_students_reading = reading_pass_schools.groupby(["school_name"]).count()["student_name"]

#print((passing_students_reading).head())

#create it into a df:
passing_students_reading_df = pd.DataFrame({"Passing students reading":[passing_students_reading]})
#print(passing_students_reading_df.head(15))


#MATHS AND READING
#Get the students who passed both reading and maths in a separate DataFrame from school_data_complete.
math_reading_pass_schools = school_data_complete[(school_data_complete["maths_score"] >= 50) & (school_data_complete["reading_score"] >= 50)]

#use a groupby function on this new filtered dataset:
passing_maths_and_reading_groupby = math_reading_pass_schools.groupby(["school_name"]).count()["student_name"]

#create it into a df:
passing_maths_and_reading = pd.DataFrame({"Passing Maths and Reading": [passing_maths_and_reading_groupby]})
#print((passing_maths_and_reading).head(10))


#  Calculate the Percentage Pass Rates
per_school_passing_maths = passing_students_maths / per_school_counts * 100
per_school_passing_reading = passing_students_reading / per_school_counts * 100
overall_passing_rate = passing_maths_and_reading_groupby / per_school_counts * 100

print(per_school_passing_maths)
print(per_school_passing_reading)
print(overall_passing_rate)


# Convert to DataFrame

per_school_summary = pd.DataFrame({ 'School_type': school_types,
                  'Total Students': per_school_counts,
                 'Total School Budget': per_school_budget,
                  'Per Student Budget': per_school_capita,
                  'Average Maths Score': per_school_maths,
                  'Average Reading Score': per_school_reading,
                  '% Passing Maths': per_school_passing_maths,
                  '% Passing Reading': per_school_passing_reading,
                  '% Overall Passing': overall_passing_rate})

#Formatting
per_school_summary["Total School Budget"] = per_school_summary["Total School Budget"].map("${:,.2f}".format)
per_school_summary["Per Student Budget"] = per_school_summary["Per Student Budget"].map("${:,.2f}".format)

# Display the DataFrame
per_school_summary





# Sort and show top five schools
top_schools = per_school_summary.sort_values("% Overall Passing", ascending = False)
top_schools.head(5)


Bottom Performing Schools (By % Overall Passing)


top_schools = per_school_summary.sort_values("% Overall Passing")
top_schools.head(5)



