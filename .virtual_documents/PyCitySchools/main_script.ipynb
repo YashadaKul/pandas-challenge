


# Dependencies and Setup
from pathlib import Path
import pandas as pd

# File to Load
school_data_to_load = Path("../Resources/schools_complete.csv")
student_data_to_load = Path("../Resources/students_complete.csv")

# Read School and Student Data File and store into Pandas DataFrames
school_data = pd.read_csv(school_data_to_load)
student_data = pd.read_csv(student_data_to_load)

# Combine the data into a single dataset.
school_data_complete = pd.merge(student_data, school_data, how="left", on=["school_name", "school_name"])





# Have a look at the merged data using various pandas functions
school_data_complete.head(100)



school_data_complete.shape





# Calculate the Totals (Schools and Students)
school_count = len(school_data_complete["school_name"].unique())
student_count = len(school_data_complete["Student ID"].unique())

# Calculate the Total Budget
total_budget = school_data["budget"].sum()



# Calculate the Average Scores
average_maths_score = school_data_complete["maths_score"].mean()
average_reading_score = school_data_complete["reading_score"].mean()


# Calculate the Percentage Pass Rates
passing_maths_count = school_data_complete[(school_data_complete["maths_score"] >= 50)].count()["student_name"]
passing_maths_percentage = passing_maths_count / float(student_count) * 100

passing_reading_count = school_data_complete[(school_data_complete["reading_score"] >= 50)].count()["student_name"]
passing_reading_percentage = passing_reading_count /float(student_count) * 100

passing_maths_reading_count = school_data_complete[(school_data_complete["maths_score"] >= 50) & (school_data_complete["reading_score"] >= 50)].count()["student_name"]
overall_passing_rate = passing_maths_reading_count/float(student_count)* 100


# Convert to DataFrame
area_summary = pd.DataFrame({"Total Schools": [school_count],
                             "Total Students": [student_count],
                            "Total Budget": [total_budget],
                            "Average Maths Score": [average_maths_score],
                           "Average Reading Score": [average_reading_score],
                             "% Passing Maths": [passing_maths_percentage],
                             "% Passing Reading": [passing_reading_percentage],
                            "% Overall Passing": [overall_passing_rate]})
                             
                             
# Formatting
area_summary["Total Students"] = area_summary["Total Students"].map("{:,}".format)
area_summary["Total Budget"] = area_summary["Total Budget"].map("${:,.2f}".format)

# Display the DataFrame
area_summary





# Use the code provided to select the type per school from school_data
school_types = school_data.set_index(["school_name"])["type"]

# Calculate the total student count per school from school_data
per_school_counts = school_data.set_index(["school_name"])["size"]

# Calculate the total school budget and per capita spending per school from school_data
per_school_budget = school_data.set_index(["school_name"])["budget"]
per_school_capita = per_school_budget/per_school_counts

# Calculate the average test scores per school from school_data_complete
per_school_maths_grouped =  school_data_complete.groupby(["school_name"])
per_school_maths =  per_school_maths_grouped["maths_score"].mean()

per_school_reading_grouped = school_data_complete.groupby(["school_name"])
per_school_reading = per_school_reading_grouped["reading_score"].mean()



#Get the students who passed maths and passed reading by creating separate filtered DataFrames from school_data_complete.
#MATHS
#First filter maths scores greater than euqal to 50 from the complete dataset:
math_pass_schools = school_data_complete[(school_data_complete["maths_score"] >= 50)]
#use a groupby function on this new filtered dataset:
passing_students_maths = math_pass_schools.groupby(["school_name"]).count()["student_name"]


#READING
#First filter reading scores greater than equal to 50 from the complete dataset:
reading_pass_schools = school_data_complete[(school_data_complete["reading_score"] >= 50)]

#use a groupby function on this new filtered dataset:
passing_students_reading = reading_pass_schools.groupby(["school_name"]).count()["student_name"]

#create it into a df:
passing_students_reading_df = pd.DataFrame({"Passing students reading":[passing_students_reading]})
#print(passing_students_reading_df.head(15))


#MATHS AND READING
#Get the students who passed both reading and maths in a separate DataFrame from school_data_complete.
math_reading_pass_schools = school_data_complete[(school_data_complete["maths_score"] >= 50) & (school_data_complete["reading_score"] >= 50)]

#use a groupby function on this new filtered dataset:
passing_maths_and_reading_groupby = math_reading_pass_schools.groupby(["school_name"]).count()["student_name"]

#create it into a df:
passing_maths_and_reading = pd.DataFrame({"Passing Maths and Reading": [passing_maths_and_reading_groupby]})



#  Calculate the Percentage Pass Rates
per_school_passing_maths = passing_students_maths / per_school_counts * 100
per_school_passing_reading = passing_students_reading / per_school_counts * 100
overall_passing_rate = passing_maths_and_reading_groupby / per_school_counts * 100


# Convert to DataFrame

per_school_summary = pd.DataFrame({ 'School_type': school_types,
                  'Total Students': per_school_counts,
                 'Total School Budget': per_school_budget,
                  'Per Student Budget': per_school_capita,
                  'Average Maths Score': per_school_maths,
                  'Average Reading Score': per_school_reading,
                  '% Passing Maths': per_school_passing_maths,
                  '% Passing Reading': per_school_passing_reading,
                  '% Overall Passing': overall_passing_rate})

#Formatting
per_school_summary["Total School Budget"] = per_school_summary["Total School Budget"].map("${:,.2f}".format)
per_school_summary["Per Student Budget"] = per_school_summary["Per Student Budget"].map("${:,.2f}".format)

# Display the DataFrame
per_school_summary





# Sort and show top five schools
top_schools = per_school_summary.sort_values("% Overall Passing", ascending = False)
top_schools.head(5)





bottom_schools = per_school_summary.sort_values("% Overall Passing")
bottom_schools.head(5)





# Create data series of scores by year levels using conditionals
year_nine = school_data_complete[(school_data_complete["year"] == 9)]
year_ten = school_data_complete[(school_data_complete["year"] == 10)]
year_eleven = school_data_complete[(school_data_complete["year"] == 11)]
year_twelve = school_data_complete[(school_data_complete["year"] == 12)]


# Group each by school name
year_nine_grouped = year_nine.groupby(["school_name"])
year_nine_scores = year_nine_grouped["maths_score"].mean()

year_ten_grouped = year_ten.groupby(["school_name"])
year_ten_scores = year_ten_grouped["maths_score"].mean()

year_eleven_grouped = year_eleven.groupby(["school_name"])
year_eleven_scores = year_eleven_grouped["maths_score"].mean()

year_twelve_grouped = year_twelve.groupby(["school_name"])
year_twelve_scores = year_twelve_grouped["maths_score"].mean()


# Combine series into single DataFrame
maths_scores_by_year = pd.DataFrame({'Year 9': year_nine_scores,
                                    'Year 10': year_ten_scores,
                                    'Year 11': year_eleven_scores,
                                    'Year 12': year_twelve_scores})
                                     

# Minor data wrangling
maths_scores_by_year.index.name = None

# Display the DataFrame
maths_scores_by_year





# Create data series of scores by year levels using conditionals
year_nine = school_data_complete[(school_data_complete["year"] == 9)]
year_ten = school_data_complete[(school_data_complete["year"] == 10)]
year_eleven = school_data_complete[(school_data_complete["year"] == 11)]
year_twelve = school_data_complete[(school_data_complete["year"] == 12)]

# Group each by school name
year_nine_scores_reading = year_nine_grouped["reading_score"].mean()
year_ten_scores_reading = year_ten_grouped["reading_score"].mean()
year_eleven_scores_reading = year_eleven_grouped["reading_score"].mean()
year_twelve_scores_reading = year_twelve_grouped["reading_score"].mean()

# Combine series into single DataFrame
reading_scores_by_year = pd.DataFrame({'Year 9': year_nine_scores_reading,
                                    'Year 10': year_ten_scores_reading,
                                    'Year 11': year_eleven_scores_reading,
                                    'Year 12': year_twelve_scores_reading})

# Minor data wrangling
reading_scores_by_year.index.name = None

# Display the DataFrame
reading_scores_by_year






# Establish the bins
spending_bins = [0, 585, 630, 645, 680]
group_names = ["<$585", "$585-630", "$630-645", "$645-680"]


# Create a copy of the school summary since it has the "Per Student Budget"
#  This step can be skipped but its best to make a copy.
school_spending_df = per_school_summary


# Categorise spending based on the bins.
school_spending_df["Spending Ranges (Per Student)"] = pd.cut((per_school_capita), spending_bins,\
                                                             labels=group_names, include_lowest=True)
school_spending_df


#  Calculate averages for the desired columns.
spending_maths_scores = school_spending_df.groupby(["Spending Ranges (Per Student)"])["Average Maths Score"].mean()
spending_reading_scores = school_spending_df.groupby(["Spending Ranges (Per Student)"])["Average Reading Score"].mean()
spending_passing_maths = school_spending_df.groupby(["Spending Ranges (Per Student)"])["% Passing Maths"].mean()
spending_passing_reading = school_spending_df.groupby(["Spending Ranges (Per Student)"])["% Passing Reading"].mean()
overall_passing_spending = school_spending_df.groupby(["Spending Ranges (Per Student)"])["% Overall Passing"].mean()



# Assemble into DataFrame
spending_summary = pd.DataFrame({"Average Maths Score": spending_maths_scores,
                                "Average Reading Score": spending_reading_scores,
                                "% Passing Maths": spending_passing_maths,
                                "% Passing Reading": spending_passing_reading,
                                "% Overall Passing": overall_passing_spending})
# Formatting
spending_summary["Average Maths Score"] = spending_summary["Average Maths Score"].map("{:,.2f}".format)
spending_summary["Average Reading Score"] = spending_summary["Average Reading Score"].map("{:,.2f}".format)
spending_summary["% Passing Maths"] = spending_summary["% Passing Maths"].map("{:,.2f}".format)
spending_summary["% Passing Reading"] = spending_summary["% Passing Reading"].map("{:,.2f}".format)
spending_summary["% Overall Passing"] = spending_summary["% Overall Passing"].map("{:,.2f}".format)


# Display results
spending_summary





# Establish the bins.
size_bins = [0, 1000, 2000, 5000]
group_names = ["Small (<1000)", "Medium (1000-2000)", "Large (2000-5000)"]


# Categorize the spending based on the bins
school_spending_df["School Size"] = pd.cut((per_school_counts), size_bins, labels = group_names, include_lowest=True)
school_spending_df


# Calculate averages for the desired columns.
size_maths_scores = per_school_summary.groupby(["School Size"])["Average Maths Score"].mean()
size_reading_scores = per_school_summary.groupby(["School Size"])["Average Reading Score"].mean()
size_passing_maths = per_school_summary.groupby(["School Size"])["% Passing Maths"].mean()
size_passing_reading = per_school_summary.groupby(["School Size"])["% Passing Reading"].mean()
size_overall_passing = per_school_summary.groupby(["School Size"])["% Overall Passing"].mean()


# Assemble into DataFrame
size_summary = pd.DataFrame({"Average Maths Score": size_maths_scores,
                                "Average Reading Score": size_reading_scores,
                                "% Passing Maths": size_passing_maths,
                                "% Passing Reading": size_passing_reading,
                                "% Overall Passing": size_overall_passing})

# Display results
size_summary





# Create new series using groupby for:
# Type | Average Maths Score | Average Reading Score | % Passing Maths | % Passing Reading | % Overall Passing

type_maths_scores = per_school_summary.groupby(["School_type"])["Average Maths Score"].mean()
type_reading_scores = per_school_summary.groupby(["School_type"])["Average Reading Score"].mean()
type_passing_maths = per_school_summary.groupby(["School_type"])["% Passing Maths"].mean()
type_passing_reading = per_school_summary.groupby(["School_type"])["% Passing Reading"].mean()
type_overall_passing = per_school_summary.groupby(["School_type"])["% Overall Passing"].mean()


# Assemble into DataFrame
type_summary = pd.DataFrame({"Average Maths Score": type_maths_scores,
                                "Average Reading Score": type_reading_scores ,
                                "% Passing Maths": type_passing_maths,
                                "% Passing Reading": type_passing_reading,
                                "% Overall Passing": type_overall_passing})

# Display results
type_summary

