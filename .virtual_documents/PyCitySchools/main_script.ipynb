


# Dependencies and Setup
from pathlib import Path
import pandas as pd

# File to Load
school_data_to_load = Path("../Resources/schools_complete.csv")
student_data_to_load = Path("../Resources/students_complete.csv")

# Read School and Student Data File and store into Pandas DataFrames
school_data = pd.read_csv(school_data_to_load)
student_data = pd.read_csv(student_data_to_load)

# Combine the data into a single dataset.
school_data_complete = pd.merge(student_data, school_data, how="left", on=["school_name", "school_name"])


# Have a look at the merged data using various pandas functions
school_data_complete.head(100)



school_data_complete.describe


school_data_complete.shape





# Calculate the Totals (Schools and Students)
school_count = len(school_data_complete["school_name"].unique())
student_count = len(school_data_complete["Student ID"].unique())

# Calculate the Total Budget
total_budget = school_data["budget"].sum()



print(f"Number of schools: {school_count}")
print(f"Number of students: {student_count}")
print(f"Total budget: {total_budget}")


# Calculate the Average Scores
average_maths_score = school_data_complete["maths_score"].mean()
average_reading_score = school_data_complete["reading_score"].mean()


print(f"Average math score: {average_maths_score}")
print(f"Average reading score: {average_reading_score}")


type(school_data_complete["reading_score"])


# Calculate the Percentage Pass Rates
passing_maths_count = school_data_complete[(school_data_complete["maths_score"] >= 50)].count()["student_name"]
passing_maths_percentage = passing_maths_count / float(student_count) * 100

passing_reading_count = school_data_complete[(school_data_complete["reading_score"] >= 50)].count()["student_name"]
passing_reading_percentage = passing_reading_count /float(student_count) * 100

passing_maths_reading_count = school_data_complete[(school_data_complete["maths_score"] >= 50) & (school_data_complete["reading_score"] >= 50)].count()["student_name"]
overall_passing_rate = passing_maths_reading_count/float(student_count)* 100


print(passing_maths_percentage)
print(passing_reading_percentage)
print(overall_passing_rate)


print(passing_reading_count)
print(passing_maths_reading_count)


# Convert to DataFrame
area_summary = pd.DataFrame({"Total Schools": [school_count],
                             "Total Students": [student_count],
                            "Total Budget": [total_budget],
                            "Average Maths Score": [average_maths_score],
                           "Average Reading Score": [average_reading_score],
                             "% Passing Maths": [passing_maths_percentage],
                             "% Passing Reading": [passing_reading_percentage],
                            "% Overall Passing": [overall_passing_rate]})
                             
                             
# Formatting
area_summary["Total Students"] = area_summary["Total Students"].map("{:,}".format)
area_summary["Total Budget"] = area_summary["Total Budget"].map("${:,.2f}".format)

# Display the DataFrame
area_summary





# Use the code provided to select the type per school from school_data
school_types = school_data.set_index(["school_name"])["type"]

# Calculate the total student count per school from school_data
per_school_counts = school_data.set_index(["school_name"])["size"]

# Calculate the total school budget and per capita spending per school from school_data
per_school_budget = school_data.set_index(["school_name"])["budget"]
per_school_capita = school_data["budget"]/school_data["size"]

# Calculate the average test scores per school from school_data_complete
per_school_maths_grouped =  school_data_complete.groupby(["school_name"])
per_school_maths =  per_school_maths_grouped["maths_score"].mean()

per_school_reading_grouped = school_data_complete.groupby(["school_name"])
per_school_reading = per_school_reading_grouped["reading_score"].mean()



print(school_types)
print(per_school_counts)
print(per_school_maths)


#Get the students who passed maths and passed reading by creating separate filtered DataFrames from school_data_complete.
schools_students_grouped = school_data_complete.groupby(["school_name"])
school_passing_maths = pd.DataFrame(schools_students_grouped[["maths_score"] >= 50].count())



#  Calculate the Percentage Pass Rates
per_school_passing_maths =
per_school_passing_reading =
overall_passing_rate =


school_data_complete.groupby["school_name"]school_data_complete[(school_data_complete["maths_score"] >= 50)].count()["student_name"]


# Convert to DataFrame
per_school_summary = pd.DataFrame({"Total Type": [school_types],
                             "Total Students": [per_school_counts],
                            "Total Budget": [per_school_budget],
                            "Per Students Budget": [per_school_capita],
                           "Average Maths Score": [per_school_maths],
                             "Average Reading Score": [per_school_reading]})

# Formatting
#per_school_summary["Total School Budget"] = per_school_summary["Total School Budget"].map("${:,.2f}".format)
#per_school_summary["Per Student Budget"] = per_school_summary["Per Student Budget"].map("${:,.2f}".format)

# Display the DataFrame
per_school_summary




