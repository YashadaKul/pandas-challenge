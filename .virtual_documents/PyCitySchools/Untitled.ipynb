#schools_students_grouped = school_data_complete.groupby(["school_name"])
#per_school_maths1 =  per_school_maths_grouped["maths_score"]

#print(passing_maths_count)


#schools_students_grouped

#print(schools_students_grouped.first())

#maths_students = schools_students_grouped["maths_score"].count()
#reading_students = schools_students_grouped[["reading_score"] >= 50].count()

#school_passing_maths = pd.DataFrame({"Number of students pased maths":[maths_students]
#school_passing_reading = pd.DataFrame ({"Number of students passed reading": [reading_students]})

# Get the students who passed both reading and maths in a separate DataFrame from school_data_complete.
