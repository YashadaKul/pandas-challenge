{
 "cells": [
  {
   "cell_type": "markdown",
   "id": "7295987f-1ac3-478b-9703-6fdb1da240d5",
   "metadata": {},
   "source": [
    "PyCity Schools Analysis\n",
    "\n",
    ">my analysis here<"
   ]
  },
  {
   "cell_type": "code",
   "execution_count": 3,
   "id": "6770e0b6-66c7-416d-bb51-96abacfb5dcb",
   "metadata": {},
   "outputs": [],
   "source": [
    "# Dependencies and Setup\n",
    "from pathlib import Path\n",
    "import pandas as pd\n",
    "\n",
    "# File to Load\n",
    "school_data_to_load = Path(\"../Resources/schools_complete.csv\")\n",
    "student_data_to_load = Path(\"../Resources/students_complete.csv\")\n",
    "\n",
    "# Read School and Student Data File and store into Pandas DataFrames\n",
    "school_data = pd.read_csv(school_data_to_load)\n",
    "student_data = pd.read_csv(student_data_to_load)\n",
    "\n",
    "# Combine the data into a single dataset.\n",
    "school_data_complete = pd.merge(student_data, school_data, how=\"left\", on=[\"school_name\", \"school_name\"])"
   ]
  },
  {
   "cell_type": "code",
   "execution_count": 76,
   "id": "23952f58-b9dc-445f-9919-31b908e6695b",
   "metadata": {},
   "outputs": [
    {
     "data": {
      "text/html": [
       "<div>\n",
       "<style scoped>\n",
       "    .dataframe tbody tr th:only-of-type {\n",
       "        vertical-align: middle;\n",
       "    }\n",
       "\n",
       "    .dataframe tbody tr th {\n",
       "        vertical-align: top;\n",
       "    }\n",
       "\n",
       "    .dataframe thead th {\n",
       "        text-align: right;\n",
       "    }\n",
       "</style>\n",
       "<table border=\"1\" class=\"dataframe\">\n",
       "  <thead>\n",
       "    <tr style=\"text-align: right;\">\n",
       "      <th></th>\n",
       "      <th>Student ID</th>\n",
       "      <th>student_name</th>\n",
       "      <th>gender</th>\n",
       "      <th>year</th>\n",
       "      <th>school_name</th>\n",
       "      <th>reading_score</th>\n",
       "      <th>maths_score</th>\n",
       "      <th>School ID</th>\n",
       "      <th>type</th>\n",
       "      <th>size</th>\n",
       "      <th>budget</th>\n",
       "    </tr>\n",
       "  </thead>\n",
       "  <tbody>\n",
       "    <tr>\n",
       "      <th>0</th>\n",
       "      <td>0</td>\n",
       "      <td>Paul Bradley</td>\n",
       "      <td>M</td>\n",
       "      <td>9</td>\n",
       "      <td>Huang High School</td>\n",
       "      <td>96</td>\n",
       "      <td>94</td>\n",
       "      <td>0</td>\n",
       "      <td>Government</td>\n",
       "      <td>2917</td>\n",
       "      <td>1910635</td>\n",
       "    </tr>\n",
       "    <tr>\n",
       "      <th>1</th>\n",
       "      <td>1</td>\n",
       "      <td>Victor Smith</td>\n",
       "      <td>M</td>\n",
       "      <td>12</td>\n",
       "      <td>Huang High School</td>\n",
       "      <td>90</td>\n",
       "      <td>43</td>\n",
       "      <td>0</td>\n",
       "      <td>Government</td>\n",
       "      <td>2917</td>\n",
       "      <td>1910635</td>\n",
       "    </tr>\n",
       "    <tr>\n",
       "      <th>2</th>\n",
       "      <td>2</td>\n",
       "      <td>Kevin Rodriguez</td>\n",
       "      <td>M</td>\n",
       "      <td>12</td>\n",
       "      <td>Huang High School</td>\n",
       "      <td>41</td>\n",
       "      <td>76</td>\n",
       "      <td>0</td>\n",
       "      <td>Government</td>\n",
       "      <td>2917</td>\n",
       "      <td>1910635</td>\n",
       "    </tr>\n",
       "    <tr>\n",
       "      <th>3</th>\n",
       "      <td>3</td>\n",
       "      <td>Richard Scott</td>\n",
       "      <td>M</td>\n",
       "      <td>12</td>\n",
       "      <td>Huang High School</td>\n",
       "      <td>89</td>\n",
       "      <td>86</td>\n",
       "      <td>0</td>\n",
       "      <td>Government</td>\n",
       "      <td>2917</td>\n",
       "      <td>1910635</td>\n",
       "    </tr>\n",
       "    <tr>\n",
       "      <th>4</th>\n",
       "      <td>4</td>\n",
       "      <td>Bonnie Ray</td>\n",
       "      <td>F</td>\n",
       "      <td>9</td>\n",
       "      <td>Huang High School</td>\n",
       "      <td>87</td>\n",
       "      <td>69</td>\n",
       "      <td>0</td>\n",
       "      <td>Government</td>\n",
       "      <td>2917</td>\n",
       "      <td>1910635</td>\n",
       "    </tr>\n",
       "    <tr>\n",
       "      <th>...</th>\n",
       "      <td>...</td>\n",
       "      <td>...</td>\n",
       "      <td>...</td>\n",
       "      <td>...</td>\n",
       "      <td>...</td>\n",
       "      <td>...</td>\n",
       "      <td>...</td>\n",
       "      <td>...</td>\n",
       "      <td>...</td>\n",
       "      <td>...</td>\n",
       "      <td>...</td>\n",
       "    </tr>\n",
       "    <tr>\n",
       "      <th>95</th>\n",
       "      <td>95</td>\n",
       "      <td>Kevin Martinez</td>\n",
       "      <td>M</td>\n",
       "      <td>11</td>\n",
       "      <td>Huang High School</td>\n",
       "      <td>43</td>\n",
       "      <td>89</td>\n",
       "      <td>0</td>\n",
       "      <td>Government</td>\n",
       "      <td>2917</td>\n",
       "      <td>1910635</td>\n",
       "    </tr>\n",
       "    <tr>\n",
       "      <th>96</th>\n",
       "      <td>96</td>\n",
       "      <td>Jessica Smith</td>\n",
       "      <td>F</td>\n",
       "      <td>9</td>\n",
       "      <td>Huang High School</td>\n",
       "      <td>55</td>\n",
       "      <td>49</td>\n",
       "      <td>0</td>\n",
       "      <td>Government</td>\n",
       "      <td>2917</td>\n",
       "      <td>1910635</td>\n",
       "    </tr>\n",
       "    <tr>\n",
       "      <th>97</th>\n",
       "      <td>97</td>\n",
       "      <td>Dawn Trujillo</td>\n",
       "      <td>F</td>\n",
       "      <td>11</td>\n",
       "      <td>Huang High School</td>\n",
       "      <td>49</td>\n",
       "      <td>89</td>\n",
       "      <td>0</td>\n",
       "      <td>Government</td>\n",
       "      <td>2917</td>\n",
       "      <td>1910635</td>\n",
       "    </tr>\n",
       "    <tr>\n",
       "      <th>98</th>\n",
       "      <td>98</td>\n",
       "      <td>Virginia Ramirez MD</td>\n",
       "      <td>F</td>\n",
       "      <td>10</td>\n",
       "      <td>Huang High School</td>\n",
       "      <td>66</td>\n",
       "      <td>95</td>\n",
       "      <td>0</td>\n",
       "      <td>Government</td>\n",
       "      <td>2917</td>\n",
       "      <td>1910635</td>\n",
       "    </tr>\n",
       "    <tr>\n",
       "      <th>99</th>\n",
       "      <td>99</td>\n",
       "      <td>Marc Hernandez</td>\n",
       "      <td>M</td>\n",
       "      <td>10</td>\n",
       "      <td>Huang High School</td>\n",
       "      <td>89</td>\n",
       "      <td>66</td>\n",
       "      <td>0</td>\n",
       "      <td>Government</td>\n",
       "      <td>2917</td>\n",
       "      <td>1910635</td>\n",
       "    </tr>\n",
       "  </tbody>\n",
       "</table>\n",
       "<p>100 rows × 11 columns</p>\n",
       "</div>"
      ],
      "text/plain": [
       "    Student ID         student_name gender  year        school_name  \\\n",
       "0            0         Paul Bradley      M     9  Huang High School   \n",
       "1            1         Victor Smith      M    12  Huang High School   \n",
       "2            2      Kevin Rodriguez      M    12  Huang High School   \n",
       "3            3        Richard Scott      M    12  Huang High School   \n",
       "4            4           Bonnie Ray      F     9  Huang High School   \n",
       "..         ...                  ...    ...   ...                ...   \n",
       "95          95       Kevin Martinez      M    11  Huang High School   \n",
       "96          96        Jessica Smith      F     9  Huang High School   \n",
       "97          97        Dawn Trujillo      F    11  Huang High School   \n",
       "98          98  Virginia Ramirez MD      F    10  Huang High School   \n",
       "99          99       Marc Hernandez      M    10  Huang High School   \n",
       "\n",
       "    reading_score  maths_score  School ID        type  size   budget  \n",
       "0              96           94          0  Government  2917  1910635  \n",
       "1              90           43          0  Government  2917  1910635  \n",
       "2              41           76          0  Government  2917  1910635  \n",
       "3              89           86          0  Government  2917  1910635  \n",
       "4              87           69          0  Government  2917  1910635  \n",
       "..            ...          ...        ...         ...   ...      ...  \n",
       "95             43           89          0  Government  2917  1910635  \n",
       "96             55           49          0  Government  2917  1910635  \n",
       "97             49           89          0  Government  2917  1910635  \n",
       "98             66           95          0  Government  2917  1910635  \n",
       "99             89           66          0  Government  2917  1910635  \n",
       "\n",
       "[100 rows x 11 columns]"
      ]
     },
     "execution_count": 76,
     "metadata": {},
     "output_type": "execute_result"
    }
   ],
   "source": [
    "# Have a look at the merged data using various pandas functions\n",
    "school_data_complete.head(100)\n"
   ]
  },
  {
   "cell_type": "code",
   "execution_count": 38,
   "id": "afff3f41-b4bd-477c-ac67-e23e51730971",
   "metadata": {},
   "outputs": [
    {
     "data": {
      "text/plain": [
       "<bound method NDFrame.describe of        Student ID     student_name gender  year         school_name  \\\n",
       "0               0     Paul Bradley      M     9   Huang High School   \n",
       "1               1     Victor Smith      M    12   Huang High School   \n",
       "2               2  Kevin Rodriguez      M    12   Huang High School   \n",
       "3               3    Richard Scott      M    12   Huang High School   \n",
       "4               4       Bonnie Ray      F     9   Huang High School   \n",
       "...           ...              ...    ...   ...                 ...   \n",
       "39165       39165     Donna Howard      F    12  Thomas High School   \n",
       "39166       39166        Dawn Bell      F    10  Thomas High School   \n",
       "39167       39167   Rebecca Tanner      F     9  Thomas High School   \n",
       "39168       39168     Desiree Kidd      F    10  Thomas High School   \n",
       "39169       39169  Carolyn Jackson      F    11  Thomas High School   \n",
       "\n",
       "       reading_score  maths_score  School ID         type  size   budget  \n",
       "0                 96           94          0   Government  2917  1910635  \n",
       "1                 90           43          0   Government  2917  1910635  \n",
       "2                 41           76          0   Government  2917  1910635  \n",
       "3                 89           86          0   Government  2917  1910635  \n",
       "4                 87           69          0   Government  2917  1910635  \n",
       "...              ...          ...        ...          ...   ...      ...  \n",
       "39165             51           48         14  Independent  1635  1043130  \n",
       "39166             81           89         14  Independent  1635  1043130  \n",
       "39167             99           99         14  Independent  1635  1043130  \n",
       "39168             72           77         14  Independent  1635  1043130  \n",
       "39169             47           62         14  Independent  1635  1043130  \n",
       "\n",
       "[39170 rows x 11 columns]>"
      ]
     },
     "execution_count": 38,
     "metadata": {},
     "output_type": "execute_result"
    }
   ],
   "source": [
    "school_data_complete.describe"
   ]
  },
  {
   "cell_type": "code",
   "execution_count": 12,
   "id": "e8b6acdd-fa52-4938-9277-143fa3b9ea57",
   "metadata": {},
   "outputs": [
    {
     "data": {
      "text/plain": [
       "(39170, 11)"
      ]
     },
     "execution_count": 12,
     "metadata": {},
     "output_type": "execute_result"
    }
   ],
   "source": [
    "school_data_complete.shape"
   ]
  },
  {
   "cell_type": "markdown",
   "id": "24617020-8ffa-43e5-9b8a-2c7859d11fa1",
   "metadata": {},
   "source": [
    "Local Government Area Summary"
   ]
  },
  {
   "cell_type": "code",
   "execution_count": 123,
   "id": "ce5aab91-a41d-4bb0-8aa0-aeb149ae6620",
   "metadata": {},
   "outputs": [],
   "source": [
    "# Calculate the Totals (Schools and Students)\n",
    "school_count = len(school_data_complete[\"school_name\"].unique())\n",
    "student_count = len(school_data_complete[\"Student ID\"].unique())\n",
    "\n",
    "# Calculate the Total Budget\n",
    "total_budget = school_data[\"budget\"].sum()\n"
   ]
  },
  {
   "cell_type": "code",
   "execution_count": 124,
   "id": "e6e01bd2-8722-4a65-b724-4f8314502389",
   "metadata": {},
   "outputs": [
    {
     "name": "stdout",
     "output_type": "stream",
     "text": [
      "Number of schools: 15\n",
      "Number of students: 39170\n",
      "Total budget: 24649428\n"
     ]
    }
   ],
   "source": [
    "print(f\"Number of schools: {school_count}\")\n",
    "print(f\"Number of students: {student_count}\")\n",
    "print(f\"Total budget: {total_budget}\")"
   ]
  },
  {
   "cell_type": "code",
   "execution_count": 117,
   "id": "80438369-48f5-4619-b640-502013c3ca31",
   "metadata": {},
   "outputs": [],
   "source": [
    "# Calculate the Average Scores\n",
    "average_maths_score = school_data_complete[\"maths_score\"].mean()\n",
    "average_reading_score = school_data_complete[\"reading_score\"].mean()"
   ]
  },
  {
   "cell_type": "code",
   "execution_count": 60,
   "id": "179394b2-2960-4647-92c6-792405bea9ce",
   "metadata": {},
   "outputs": [
    {
     "name": "stdout",
     "output_type": "stream",
     "text": [
      "Average math score: 70.33819249425581\n",
      "Average reading score: 69.98013786060761\n"
     ]
    }
   ],
   "source": [
    "print(f\"Average math score: {average_maths_score}\")\n",
    "print(f\"Average reading score: {average_reading_score}\")"
   ]
  },
  {
   "cell_type": "code",
   "execution_count": 98,
   "id": "cf14b29c-6c03-4a0d-871d-bece2dcb32e2",
   "metadata": {},
   "outputs": [
    {
     "data": {
      "text/plain": [
       "pandas.core.series.Series"
      ]
     },
     "execution_count": 98,
     "metadata": {},
     "output_type": "execute_result"
    }
   ],
   "source": [
    "type(school_data_complete[\"reading_score\"])"
   ]
  },
  {
   "cell_type": "code",
   "execution_count": 197,
   "id": "5a8ec529-bfa0-454b-a07e-78ff4fd5138f",
   "metadata": {},
   "outputs": [],
   "source": [
    "# Calculate the Percentage Pass Rates\n",
    "passing_maths_count = school_data_complete[(school_data_complete[\"maths_score\"] >= 50)].count()[\"student_name\"]\n",
    "passing_maths_percentage = passing_maths_count / float(student_count) * 100\n",
    "\n",
    "passing_reading_count = school_data_complete[(school_data_complete[\"reading_score\"] >= 50)].count()[\"student_name\"]\n",
    "passing_reading_percentage = passing_reading_count /float(student_count) * 100\n",
    "\n",
    "passing_maths_reading_count = school_data_complete[(school_data_complete[\"maths_score\"] >= 50) & (school_data_complete[\"reading_score\"] >= 50)].count()[\"student_name\"]\n",
    "overall_passing_rate = passing_maths_reading_count/float(student_count)* 100"
   ]
  },
  {
   "cell_type": "code",
   "execution_count": 198,
   "id": "8e2f01fb-27ff-4720-9527-555124fb63bc",
   "metadata": {},
   "outputs": [
    {
     "name": "stdout",
     "output_type": "stream",
     "text": [
      "86.07863160582077\n",
      "84.42685728874139\n",
      "72.80827163645647\n"
     ]
    }
   ],
   "source": [
    "print(passing_maths_percentage)\n",
    "print(passing_reading_percentage)\n",
    "print(overall_passing_rate)"
   ]
  },
  {
   "cell_type": "code",
   "execution_count": 199,
   "id": "627af8f8-747a-4e72-8978-2ced15a1515a",
   "metadata": {},
   "outputs": [
    {
     "name": "stdout",
     "output_type": "stream",
     "text": [
      "33070\n",
      "28519\n"
     ]
    }
   ],
   "source": [
    "print(passing_reading_count)\n",
    "print(passing_maths_reading_count)"
   ]
  },
  {
   "cell_type": "code",
   "execution_count": 216,
   "id": "69f34322-7272-409a-ae52-3349822dd068",
   "metadata": {},
   "outputs": [
    {
     "data": {
      "text/html": [
       "<div>\n",
       "<style scoped>\n",
       "    .dataframe tbody tr th:only-of-type {\n",
       "        vertical-align: middle;\n",
       "    }\n",
       "\n",
       "    .dataframe tbody tr th {\n",
       "        vertical-align: top;\n",
       "    }\n",
       "\n",
       "    .dataframe thead th {\n",
       "        text-align: right;\n",
       "    }\n",
       "</style>\n",
       "<table border=\"1\" class=\"dataframe\">\n",
       "  <thead>\n",
       "    <tr style=\"text-align: right;\">\n",
       "      <th></th>\n",
       "      <th>Total Schools</th>\n",
       "      <th>Total Students</th>\n",
       "      <th>Total Budget</th>\n",
       "      <th>Average Maths Score</th>\n",
       "      <th>Average Reading Score</th>\n",
       "      <th>% Passing Maths</th>\n",
       "      <th>% Passing Reading</th>\n",
       "      <th>% Overall Passing</th>\n",
       "    </tr>\n",
       "  </thead>\n",
       "  <tbody>\n",
       "    <tr>\n",
       "      <th>0</th>\n",
       "      <td>15</td>\n",
       "      <td>39,170</td>\n",
       "      <td>$24,649,428.00</td>\n",
       "      <td>70.338192</td>\n",
       "      <td>69.980138</td>\n",
       "      <td>86.078632</td>\n",
       "      <td>84.426857</td>\n",
       "      <td>72.808272</td>\n",
       "    </tr>\n",
       "  </tbody>\n",
       "</table>\n",
       "</div>"
      ],
      "text/plain": [
       "   Total Schools Total Students    Total Budget  Average Maths Score  \\\n",
       "0             15         39,170  $24,649,428.00            70.338192   \n",
       "\n",
       "   Average Reading Score  % Passing Maths  % Passing Reading  \\\n",
       "0              69.980138        86.078632          84.426857   \n",
       "\n",
       "   % Overall Passing  \n",
       "0          72.808272  "
      ]
     },
     "execution_count": 216,
     "metadata": {},
     "output_type": "execute_result"
    }
   ],
   "source": [
    "# Convert to DataFrame\n",
    "area_summary = pd.DataFrame({\"Total Schools\": [school_count],\n",
    "                             \"Total Students\": [student_count],\n",
    "                            \"Total Budget\": [total_budget],\n",
    "                            \"Average Maths Score\": [average_maths_score],\n",
    "                           \"Average Reading Score\": [average_reading_score],\n",
    "                             \"% Passing Maths\": [passing_maths_percentage],\n",
    "                             \"% Passing Reading\": [passing_reading_percentage],\n",
    "                            \"% Overall Passing\": [overall_passing_rate]})\n",
    "                             \n",
    "                             \n",
    "# Formatting\n",
    "area_summary[\"Total Students\"] = area_summary[\"Total Students\"].map(\"{:,}\".format)\n",
    "area_summary[\"Total Budget\"] = area_summary[\"Total Budget\"].map(\"${:,.2f}\".format)\n",
    "\n",
    "# Display the DataFrame\n",
    "area_summary"
   ]
  },
  {
   "cell_type": "markdown",
   "id": "c66a9465-b9ee-4441-81c5-10193a6ac9e6",
   "metadata": {},
   "source": [
    "School Summary"
   ]
  },
  {
   "cell_type": "code",
   "execution_count": 270,
   "id": "ec003ce9-a7bf-4299-ae75-f1f25382c7c3",
   "metadata": {},
   "outputs": [],
   "source": [
    "# Use the code provided to select the type per school from school_data\n",
    "school_types = school_data.set_index([\"school_name\"])[\"type\"]\n",
    "\n",
    "# Calculate the total student count per school from school_data\n",
    "per_school_counts = school_data.set_index([\"school_name\"])[\"size\"]\n",
    "\n",
    "# Calculate the total school budget and per capita spending per school from school_data\n",
    "per_school_budget = school_data.set_index([\"school_name\"])[\"budget\"]\n",
    "per_school_capita = school_data[\"budget\"]/school_data[\"size\"]\n",
    "per_school_capita_column = school_data[\"per_school_capital\"] = per_school_capita\n",
    "\n",
    "# Calculate the average test scores per school from school_data_complete\n",
    "per_school_maths_grouped =  school_data_complete.groupby([\"school_name\"])\n",
    "per_school_maths =  per_school_maths_grouped[\"maths_score\"].mean()\n",
    "\n",
    "per_school_reading_grouped = school_data_complete.groupby([\"school_name\"])\n",
    "per_school_reading = per_school_reading_grouped[\"reading_score\"].mean()\n"
   ]
  },
  {
   "cell_type": "code",
   "execution_count": 226,
   "id": "4f9f2a7e-9a7c-48e7-bd1e-143de2ce7d2b",
   "metadata": {},
   "outputs": [
    {
     "name": "stdout",
     "output_type": "stream",
     "text": [
      "school_name\n",
      "Huang High School         Government\n",
      "Figueroa High School      Government\n",
      "Shelton High School      Independent\n",
      "Hernandez High School     Government\n",
      "Griffin High School      Independent\n",
      "Wilson High School       Independent\n",
      "Cabrera High School      Independent\n",
      "Bailey High School        Government\n",
      "Holden High School       Independent\n",
      "Pena High School         Independent\n",
      "Wright High School       Independent\n",
      "Rodriguez High School     Government\n",
      "Johnson High School       Government\n",
      "Ford High School          Government\n",
      "Thomas High School       Independent\n",
      "Name: type, dtype: object\n",
      "school_name\n",
      "Huang High School        2917\n",
      "Figueroa High School     2949\n",
      "Shelton High School      1761\n",
      "Hernandez High School    4635\n",
      "Griffin High School      1468\n",
      "Wilson High School       2283\n",
      "Cabrera High School      1858\n",
      "Bailey High School       4976\n",
      "Holden High School        427\n",
      "Pena High School          962\n",
      "Wright High School       1800\n",
      "Rodriguez High School    3999\n",
      "Johnson High School      4761\n",
      "Ford High School         2739\n",
      "Thomas High School       1635\n",
      "Name: size, dtype: int64\n",
      "school_name\n",
      "Bailey High School       72.352894\n",
      "Cabrera High School      71.657158\n",
      "Figueroa High School     68.698542\n",
      "Ford High School         69.091274\n",
      "Griffin High School      71.788147\n",
      "Hernandez High School    68.874865\n",
      "Holden High School       72.583138\n",
      "Huang High School        68.935207\n",
      "Johnson High School      68.843100\n",
      "Pena High School         72.088358\n",
      "Rodriguez High School    72.047762\n",
      "Shelton High School      72.034072\n",
      "Thomas High School       69.581651\n",
      "Wilson High School       69.170828\n",
      "Wright High School       72.047222\n",
      "Name: maths_score, dtype: float64\n"
     ]
    }
   ],
   "source": [
    "print(school_types)\n",
    "print(per_school_counts)\n",
    "print(per_school_maths)"
   ]
  },
  {
   "cell_type": "code",
   "execution_count": 269,
   "id": "84a14737-dca4-4a76-a832-369c2b1a3b49",
   "metadata": {},
   "outputs": [
    {
     "ename": "TypeError",
     "evalue": "'>=' not supported between instances of 'list' and 'int'",
     "output_type": "error",
     "traceback": [
      "\u001b[0;31m---------------------------------------------------------------------------\u001b[0m",
      "\u001b[0;31mTypeError\u001b[0m                                 Traceback (most recent call last)",
      "Cell \u001b[0;32mIn[269], line 3\u001b[0m\n\u001b[1;32m      1\u001b[0m \u001b[38;5;66;03m# Get the students who passed maths and passed reading by creating separate filtered DataFrames from school_data_complete.\u001b[39;00m\n\u001b[1;32m      2\u001b[0m schools_counts \u001b[38;5;241m=\u001b[39m school_data_complete\u001b[38;5;241m.\u001b[39mgroupby([\u001b[38;5;124m\"\u001b[39m\u001b[38;5;124mschool_name\u001b[39m\u001b[38;5;124m\"\u001b[39m])\n\u001b[0;32m----> 3\u001b[0m maths  \u001b[38;5;241m=\u001b[39m schools_counts[[\u001b[38;5;124m\"\u001b[39m\u001b[38;5;124mmaths_score\u001b[39m\u001b[38;5;124m\"\u001b[39m] \u001b[38;5;241m>\u001b[39m\u001b[38;5;241m=\u001b[39m \u001b[38;5;241m50\u001b[39m]\u001b[38;5;241m.\u001b[39msum()[\u001b[38;5;124m\"\u001b[39m\u001b[38;5;124mschool_name\u001b[39m\u001b[38;5;124m\"\u001b[39m]\n\u001b[1;32m      4\u001b[0m \u001b[38;5;28mprint\u001b[39m(maths)\n",
      "\u001b[0;31mTypeError\u001b[0m: '>=' not supported between instances of 'list' and 'int'"
     ]
    }
   ],
   "source": [
    "# Get the students who passed maths and passed reading by creating separate filtered DataFrames from school_data_complete.\n",
    "schools_counts = school_data_complete.groupby([\"school_name\"])\n",
    "maths  = schools_counts[[\"maths_score\"] >= 50].sum()[\"school_name\"]\n",
    "print(maths)\n",
    "\n",
    "#school_data_complete.groupby([\"school_name\"])\n",
    "#print(school_passing_maths_grouped)\n",
    "#school_passing_maths_grouped.count().head()\n",
    "\n",
    "#maths = school_passing_maths_grouped[\"passing_maths_count\"]\n",
    "#school_data_complete.groupby([\"school_name\"])\n",
    "#school_passing_maths = school_passing_maths1[\"maths_score\"] >= 50\n",
    "#school_passing_reading = school_data_complete.groupby([\"student_name\"])\n",
    "\n",
    "# Get the students who passed both reading and maths in a separate DataFrame from school_data_complete.\n",
    "#passing_maths_and_reading =\n"
   ]
  },
  {
   "cell_type": "code",
   "execution_count": null,
   "id": "f73614a9-5d48-4396-a098-5c7299c49bbe",
   "metadata": {},
   "outputs": [],
   "source": [
    "#  Calculate the Percentage Pass Rates\n",
    "per_school_passing_maths =\n",
    "per_school_passing_reading =\n",
    "overall_passing_rate ="
   ]
  },
  {
   "cell_type": "code",
   "execution_count": null,
   "id": "f24113cf-b4ca-4a93-a97c-49a2f9655c7b",
   "metadata": {},
   "outputs": [],
   "source": [
    "school_data_complete.groupby[\"school_name\"]school_data_complete[(school_data_complete[\"maths_score\"] >= 50)].count()[\"student_name\"]"
   ]
  },
  {
   "cell_type": "code",
   "execution_count": 275,
   "id": "f38722f2-151f-4736-9200-a3ca4c92a0fe",
   "metadata": {},
   "outputs": [
    {
     "data": {
      "text/html": [
       "<div>\n",
       "<style scoped>\n",
       "    .dataframe tbody tr th:only-of-type {\n",
       "        vertical-align: middle;\n",
       "    }\n",
       "\n",
       "    .dataframe tbody tr th {\n",
       "        vertical-align: top;\n",
       "    }\n",
       "\n",
       "    .dataframe thead th {\n",
       "        text-align: right;\n",
       "    }\n",
       "</style>\n",
       "<table border=\"1\" class=\"dataframe\">\n",
       "  <thead>\n",
       "    <tr style=\"text-align: right;\">\n",
       "      <th></th>\n",
       "      <th>Total Type</th>\n",
       "      <th>Total Students</th>\n",
       "      <th>Total Budget</th>\n",
       "      <th>Per Students Budget</th>\n",
       "      <th>Average Maths Score</th>\n",
       "      <th>Average Reading Score</th>\n",
       "    </tr>\n",
       "  </thead>\n",
       "  <tbody>\n",
       "    <tr>\n",
       "      <th>0</th>\n",
       "      <td>school_name\n",
       "Huang High School         Governme...</td>\n",
       "      <td>school_name\n",
       "Huang High School        2917\n",
       "Figu...</td>\n",
       "      <td>school_name\n",
       "Huang High School        1910635\n",
       "F...</td>\n",
       "      <td>0     655.0\n",
       "1     639.0\n",
       "2     600.0\n",
       "3     652....</td>\n",
       "      <td>school_name\n",
       "Bailey High School       72.352894...</td>\n",
       "      <td>school_name\n",
       "Bailey High School       71.008842...</td>\n",
       "    </tr>\n",
       "  </tbody>\n",
       "</table>\n",
       "</div>"
      ],
      "text/plain": [
       "                                          Total Type  \\\n",
       "0  school_name\n",
       "Huang High School         Governme...   \n",
       "\n",
       "                                      Total Students  \\\n",
       "0  school_name\n",
       "Huang High School        2917\n",
       "Figu...   \n",
       "\n",
       "                                        Total Budget  \\\n",
       "0  school_name\n",
       "Huang High School        1910635\n",
       "F...   \n",
       "\n",
       "                                 Per Students Budget  \\\n",
       "0  0     655.0\n",
       "1     639.0\n",
       "2     600.0\n",
       "3     652....   \n",
       "\n",
       "                                 Average Maths Score  \\\n",
       "0  school_name\n",
       "Bailey High School       72.352894...   \n",
       "\n",
       "                               Average Reading Score  \n",
       "0  school_name\n",
       "Bailey High School       71.008842...  "
      ]
     },
     "execution_count": 275,
     "metadata": {},
     "output_type": "execute_result"
    }
   ],
   "source": [
    "# Convert to DataFrame\n",
    "per_school_summary = pd.DataFrame({\"Total Type\": [school_types],\n",
    "                             \"Total Students\": [per_school_counts],\n",
    "                            \"Total Budget\": [per_school_budget],\n",
    "                            \"Per Students Budget\": [per_school_capita],\n",
    "                           \"Average Maths Score\": [per_school_maths],\n",
    "                             \"Average Reading Score\": [per_school_reading]})\n",
    "\n",
    "# Formatting\n",
    "#per_school_summary[\"Total School Budget\"] = per_school_summary[\"Total School Budget\"].map(\"${:,.2f}\".format)\n",
    "#per_school_summary[\"Per Student Budget\"] = per_school_summary[\"Per Student Budget\"].map(\"${:,.2f}\".format)\n",
    "\n",
    "# Display the DataFrame\n",
    "per_school_summary\n"
   ]
  },
  {
   "cell_type": "code",
   "execution_count": null,
   "id": "36bb6f7a-e2df-4fca-9f20-1b58f80a45c4",
   "metadata": {},
   "outputs": [],
   "source": []
  }
 ],
 "metadata": {
  "kernelspec": {
   "display_name": "Python 3 (ipykernel)",
   "language": "python",
   "name": "python3"
  },
  "language_info": {
   "codemirror_mode": {
    "name": "ipython",
    "version": 3
   },
   "file_extension": ".py",
   "mimetype": "text/x-python",
   "name": "python",
   "nbconvert_exporter": "python",
   "pygments_lexer": "ipython3",
   "version": "3.11.7"
  }
 },
 "nbformat": 4,
 "nbformat_minor": 5
}
