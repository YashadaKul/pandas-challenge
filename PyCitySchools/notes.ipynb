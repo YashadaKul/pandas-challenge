{
 "cells": [
  {
   "cell_type": "code",
   "execution_count": null,
   "id": "c33c471a-1cb7-46de-bdcf-ea488963d3b7",
   "metadata": {},
   "outputs": [],
   "source": [
    "#schools_students_grouped = school_data_complete.groupby([\"school_name\"])\n",
    "#per_school_maths1 =  per_school_maths_grouped[\"maths_score\"]\n",
    "\n",
    "#print(passing_maths_count)\n",
    "\n",
    "\n",
    "#schools_students_grouped\n",
    "\n",
    "#print(schools_students_grouped.first())\n",
    "\n",
    "#maths_students = schools_students_grouped[\"maths_score\"].count()\n",
    "#reading_students = schools_students_grouped[[\"reading_score\"] >= 50].count()\n",
    "\n",
    "#school_passing_maths = pd.DataFrame({\"Number of students pased maths\":[maths_students]\n",
    "#school_passing_reading = pd.DataFrame ({\"Number of students passed reading\": [reading_students]})\n",
    "\n",
    "# Get the students who passed both reading and maths in a separate DataFrame from school_data_complete."
   ]
  }
 ],
 "metadata": {
  "kernelspec": {
   "display_name": "Python 3 (ipykernel)",
   "language": "python",
   "name": "python3"
  },
  "language_info": {
   "codemirror_mode": {
    "name": "ipython",
    "version": 3
   },
   "file_extension": ".py",
   "mimetype": "text/x-python",
   "name": "python",
   "nbconvert_exporter": "python",
   "pygments_lexer": "ipython3",
   "version": "3.11.7"
  }
 },
 "nbformat": 4,
 "nbformat_minor": 5
}
