


# Dependencies and Setup
from pathlib import Path
import pandas as pd

# File to Load
school_data_to_load = Path("../Resources/schools_complete.csv")
student_data_to_load = Path("../Resources/students_complete.csv")

# Read School and Student Data File and store into Pandas DataFrames
school_data = pd.read_csv(school_data_to_load)
student_data = pd.read_csv(student_data_to_load)

# Combine the data into a single dataset.
school_data_complete = pd.merge(student_data, school_data, how="left", on=["school_name", "school_name"])


# Have a look at the merged data using various pandas functions
school_data_complete.head(5)



school_data_complete.describe


school_data_complete.shape





# Calculate the Totals (Schools and Students)
#school_unique = school_data_complete["school_name"].unique()
school_count = school_data_complete["school_name"].value_counts()
student_count = school_data_complete["Student ID"].value_counts()

# Calculate the Total Budget
total_budget = school_data_complete["budget"].sum()
total_budget


# Calculate the Totals (Schools and Students)
school_count = len(pd.unique(school_data_complete(["school_name"])))


student_count


school_count



